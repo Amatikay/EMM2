{
 "cells": [
  {
   "cell_type": "code",
   "execution_count": 1,
   "id": "475e73c9-6f21-47d5-9203-809fa9231bd5",
   "metadata": {
    "scrolled": true
   },
   "outputs": [],
   "source": [
    "Generate_Brownian <- function(Δ = .00001, N = 10^3 ){\n",
    "    B <- numeric(N)\n",
    "    for (k in 2:N){\n",
    "        B[k] = B[k - 1] + rnorm(1, 0, sqrt(Δ))\n",
    "    }\n",
    "    return(B)\n",
    "}\n",
    "\n",
    "\n",
    "Generate_S <- function(S0 = 100, a = .5, σ = .8, Δ = .00001, Brownian){\n",
    "    S <- numeric(10^3)\n",
    "    S[1] <- S0\n",
    "    for (k in 2:10^3) {\n",
    "      S[k] <- S0 * exp((a - σ^2 / 2) * (k) * Δ) + σ * Brownian[k] * Δ\n",
    "    }\n",
    "    return(S)\n",
    "}\n",
    "\n",
    "Replase_S_to_X <- function(S){\n",
    "    x <- numeric(length(S))\n",
    "    x[2] <- log(S[2]) - log(S[1])\n",
    "    for(i in 3:length(S) ) {\n",
    "        x[i] <- log(S[i]) - log(S[i-1])\n",
    "    }\n",
    "    return (x)\n",
    "}\n",
    "\n",
    "MLE_estimate <- function(X, Δ){\n",
    "\n",
    "    σ_est <- mean((X - mean(X))^2) / Δ # В знаменателе дисперсия\n",
    "    \n",
    "    a_est <- mean(X) / Δ + σ_est /2 \n",
    "\n",
    "    return(list(σ_est = σ_est , a_est = a_est))\n",
    "}"
   ]
  },
  {
   "cell_type": "code",
   "execution_count": 2,
   "id": "59b65527-12c2-46b6-9260-13243ab013df",
   "metadata": {},
   "outputs": [
    {
     "data": {
      "text/html": [
       "<dl>\n",
       "\t<dt>$σ_est</dt>\n",
       "\t\t<dd>6.47990289589696e-10</dd>\n",
       "\t<dt>$a_est</dt>\n",
       "\t\t<dd>0.17999865503001</dd>\n",
       "</dl>\n"
      ],
      "text/latex": [
       "\\begin{description}\n",
       "\\item[\\$σ\\_est] 6.47990289589696e-10\n",
       "\\item[\\$a\\_est] 0.17999865503001\n",
       "\\end{description}\n"
      ],
      "text/markdown": [
       "$σ_est\n",
       ":   6.47990289589696e-10\n",
       "$a_est\n",
       ":   0.17999865503001\n",
       "\n",
       "\n"
      ],
      "text/plain": [
       "$σ_est\n",
       "[1] 6.479903e-10\n",
       "\n",
       "$a_est\n",
       "[1] 0.1799987\n"
      ]
     },
     "metadata": {},
     "output_type": "display_data"
    }
   ],
   "source": [
    "S <- Generate_S(Brownian = Generate_Brownian())\n",
    "\n",
    "X <- Replase_S_to_X(S)\n",
    "\n",
    "MLE_estimate(X = X, Δ = .00001)"
   ]
  },
  {
   "cell_type": "markdown",
   "id": "09fa377e-9873-4e34-bbfe-8c463a4cb99a",
   "metadata": {},
   "source": [
    "Я не понимаю почему параметры оценены не верно."
   ]
  }
 ],
 "metadata": {
  "kernelspec": {
   "display_name": "R",
   "language": "R",
   "name": "ir"
  },
  "language_info": {
   "codemirror_mode": "r",
   "file_extension": ".r",
   "mimetype": "text/x-r-source",
   "name": "R",
   "pygments_lexer": "r",
   "version": "4.3.3"
  }
 },
 "nbformat": 4,
 "nbformat_minor": 5
}
