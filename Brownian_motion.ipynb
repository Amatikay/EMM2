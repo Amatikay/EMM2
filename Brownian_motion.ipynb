{
 "cells": [
  {
   "cell_type": "markdown",
   "id": "328a4608-b3f8-4481-8132-55bf65b6c219",
   "metadata": {},
   "source": [
    "# Функции"
   ]
  },
  {
   "cell_type": "code",
   "execution_count": null,
   "id": "097ea627-af04-4528-97e5-e95088fcbbb6",
   "metadata": {},
   "outputs": [],
   "source": [
    "Generate_Brownian <- function(Δ = .00001, N = 10^3 ){\n",
    "    B <- numeric(N)\n",
    "    for (k in 2:N){\n",
    "        B[k] = B[k - 1] + rnorm(1, 0, Δ)\n",
    "    }\n",
    "    return(B)\n",
    "}\n",
    "\n",
    "Generate_S <- function(S0 = 1, a = .5, σ = .9, Δ = .01, Brownian){\n",
    "    S <- numeric(10^3)\n",
    "    S[1] <- S0\n",
    "    for (k in 1:10^3) {\n",
    "      S[k] <- S0 * exp((a - σ^2 / 2) * (k) * Δ) + σ * Brownian[k] * Δ\n",
    "    }\n",
    "    return(S)\n",
    "}"
   ]
  },
  {
   "cell_type": "markdown",
   "id": "ad853d6e-cb1f-492c-9368-257b45eae503",
   "metadata": {},
   "source": [
    "# 1"
   ]
  },
  {
   "cell_type": "markdown",
   "id": "76ae2a7e-11e2-408d-b034-ef5b5d93a902",
   "metadata": {},
   "source": [
    "![Выкладки](./Data/Proofs.jpg \"Выкладки\")"
   ]
  },
  {
   "cell_type": "markdown",
   "id": "5d0e71dd-9d98-41ba-bba0-9449d88a013e",
   "metadata": {},
   "source": [
    "# 2"
   ]
  },
  {
   "cell_type": "code",
   "execution_count": null,
   "id": "8887d1d9-3ec7-49c0-98ef-c637b5265e61",
   "metadata": {},
   "outputs": [],
   "source": [
    "Brownian <- Generate_Brownian()\n",
    "plot(Brownian, type = \"l\")"
   ]
  },
  {
   "cell_type": "markdown",
   "id": "aa3ef016-fcd9-486c-83bf-e830bd3f9361",
   "metadata": {},
   "source": [
    "# 3, 4"
   ]
  },
  {
   "cell_type": "markdown",
   "id": "1f668066-ca0d-41c0-a8c2-3a525abe3f51",
   "metadata": {},
   "source": [
    "Не понимаю что не так с доверительным интервалом"
   ]
  },
  {
   "cell_type": "code",
   "execution_count": null,
   "id": "477aa062-3d7e-4283-b28a-f42b9d18c496",
   "metadata": {},
   "outputs": [],
   "source": [
    "Δ <- .00001\n",
    "simulations <- matrix(0, nrow = 10^3, ncol = 200)\n",
    "\n",
    "for (i in 1:200) {\n",
    "  simulations[, i] <- Generate_Brownian(10^3)\n",
    "}\n",
    "\n",
    "plot(1:10^3, simulations[, 1], type = \"l\", ylim = range(simulations))\n",
    "\n",
    "for (i in 2:200) {\n",
    "  lines(1:10^3, simulations[, i], col = rgb(runif(1), runif(1), runif(1), alpha = 0.5))\n",
    "}\n",
    "\n",
    "upper_STD = (3 * sqrt((1:10^3) * Δ))\n",
    "lower_STD = -(3 * sqrt((1:10^3) * Δ))\n",
    "\n",
    "lines(1:10^3, upper_STD, lty=2, lwd=3)\n",
    "lines(1:10^3, lower_STD, lty=2, lwd=3)"
   ]
  },
  {
   "cell_type": "markdown",
   "id": "a1cd8802-227a-4ef9-981a-19d765ad2be3",
   "metadata": {},
   "source": [
    "# 5"
   ]
  },
  {
   "cell_type": "code",
   "execution_count": null,
   "id": "af527454-3fcb-4380-8e8f-7135aaafcf98",
   "metadata": {},
   "outputs": [],
   "source": [
    "S <- Generate_S(Brownian = Generate_Brownian(10^3))\n",
    "plot(S,type = \"l\")"
   ]
  },
  {
   "cell_type": "markdown",
   "id": "26e344c0-3260-4c88-9b92-8670e894aa14",
   "metadata": {},
   "source": [
    "# 6"
   ]
  },
  {
   "cell_type": "code",
   "execution_count": null,
   "id": "b970efa0-67ec-4277-a80e-a52ed8eab9b6",
   "metadata": {},
   "outputs": [],
   "source": [
    "simulations <- matrix(0, nrow = 10^3, ncol = 200)\n",
    "\n",
    "for (i in 1:200) {\n",
    "  simulations[, i] <- Generate_S(Brownian = Generate_Brownian(10^3))\n",
    "}\n",
    "\n",
    "plot(1:10^3, simulations[, 1], type = \"l\", ylim = range(simulations))\n",
    "\n",
    "for (i in 2:200) {\n",
    "  lines(1:10^3, simulations[, i], col = rgb(runif(1), runif(1), runif(1), alpha = 0.5))\n",
    "}"
   ]
  }
 ],
 "metadata": {
  "kernelspec": {
   "display_name": "R",
   "language": "R",
   "name": "ir"
  },
  "language_info": {
   "codemirror_mode": "r",
   "file_extension": ".r",
   "mimetype": "text/x-r-source",
   "name": "R",
   "pygments_lexer": "r",
   "version": "4.3.3"
  }
 },
 "nbformat": 4,
 "nbformat_minor": 5
}
