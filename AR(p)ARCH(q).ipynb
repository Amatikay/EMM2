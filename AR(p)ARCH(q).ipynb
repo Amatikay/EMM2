{
 "cells": [
  {
   "cell_type": "code",
   "execution_count": null,
   "id": "21ccc7fb-7892-4671-935c-6e66764adf99",
   "metadata": {},
   "outputs": [],
   "source": []
  }
 ],
 "metadata": {
  "kernelspec": {
   "display_name": "R",
   "language": "R",
   "name": "ir"
  },
  "language_info": {
   "codemirror_mode": "r",
   "file_extension": ".r",
   "mimetype": "text/x-r-source",
   "name": "R",
   "pygments_lexer": "r",
   "version": "4.3.2"
  }
 },
 "nbformat": 4,
 "nbformat_minor": 5
}
